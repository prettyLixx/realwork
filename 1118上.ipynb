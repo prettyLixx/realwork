{
 "cells": [
  {
   "cell_type": "code",
   "execution_count": 1,
   "id": "b26772c0-e124-426f-a96a-b23d486ed825",
   "metadata": {},
   "outputs": [
    {
     "name": "stdout",
     "output_type": "stream",
     "text": [
      "Looking in indexes: https://mirrors.tuna.tsinghua.edu.cn/pypi/web/simple\n",
      "Collecting torch\n",
      "  Downloading https://mirrors.tuna.tsinghua.edu.cn/pypi/web/packages/76/49/4a0a8b19ce8f9bf32fcab4e863c7e2366f519f9826c84ca250567b11a014/torch-2.5.1-cp39-cp39-win_amd64.whl (203.0 MB)\n",
      "Requirement already satisfied: jinja2 in c:\\users\\hsxy\\anaconda3\\lib\\site-packages (from torch) (2.11.3)\n",
      "Collecting typing-extensions>=4.8.0\n",
      "  Using cached https://mirrors.tuna.tsinghua.edu.cn/pypi/web/packages/26/9f/ad63fc0248c5379346306f8668cda6e2e2e9c95e01216d2b8ffd9ff037d0/typing_extensions-4.12.2-py3-none-any.whl (37 kB)\n",
      "Collecting sympy==1.13.1\n",
      "  Using cached https://mirrors.tuna.tsinghua.edu.cn/pypi/web/packages/b2/fe/81695a1aa331a842b582453b605175f419fe8540355886031328089d840a/sympy-1.13.1-py3-none-any.whl (6.2 MB)\n",
      "Requirement already satisfied: filelock in c:\\users\\hsxy\\anaconda3\\lib\\site-packages (from torch) (3.3.1)\n",
      "Requirement already satisfied: networkx in c:\\users\\hsxy\\anaconda3\\lib\\site-packages (from torch) (2.6.3)\n",
      "Requirement already satisfied: fsspec in c:\\users\\hsxy\\anaconda3\\lib\\site-packages (from torch) (2021.10.1)\n",
      "Requirement already satisfied: mpmath<1.4,>=1.1.0 in c:\\users\\hsxy\\anaconda3\\lib\\site-packages (from sympy==1.13.1->torch) (1.2.1)\n",
      "Requirement already satisfied: MarkupSafe>=0.23 in c:\\users\\hsxy\\anaconda3\\lib\\site-packages (from jinja2->torch) (1.1.1)\n",
      "Installing collected packages: typing-extensions, sympy, torch\n",
      "  Attempting uninstall: typing-extensions\n",
      "    Found existing installation: typing-extensions 3.10.0.2\n",
      "    Can't uninstall 'typing-extensions'. No files were found to uninstall.\n",
      "  Attempting uninstall: sympy\n",
      "    Found existing installation: sympy 1.9\n",
      "    Can't uninstall 'sympy'. No files were found to uninstall.\n",
      "Successfully installed sympy-1.13.1 torch-2.5.1 typing-extensions-4.12.2\n",
      "Note: you may need to restart the kernel to use updated packages.\n"
     ]
    },
    {
     "name": "stderr",
     "output_type": "stream",
     "text": [
      "WARNING: Error parsing requirements for typing-extensions: [Errno 2] No such file or directory: 'c:\\\\users\\\\hsxy\\\\anaconda3\\\\lib\\\\site-packages\\\\typing_extensions-3.10.0.2.dist-info\\\\METADATA'\n",
      "WARNING: Error parsing requirements for sympy: [Errno 2] No such file or directory: 'c:\\\\users\\\\hsxy\\\\anaconda3\\\\lib\\\\site-packages\\\\sympy-1.9.dist-info\\\\METADATA'\n"
     ]
    }
   ],
   "source": [
    "pip install torch -i https://mirrors.tuna.tsinghua.edu.cn/pypi/web/simple"
   ]
  },
  {
   "cell_type": "code",
   "execution_count": 3,
   "id": "be813d67-cce9-4349-bbb4-45f4a0d54f8f",
   "metadata": {},
   "outputs": [
    {
     "name": "stdout",
     "output_type": "stream",
     "text": [
      "Ones tensor: \n",
      " tensor([[1, 1],\n",
      "        [1, 1]]) \n",
      "\n",
      "Random Tensor: \n",
      " tensor([[0.4592, 0.0219],\n",
      "        [0.7521, 0.2091]]) \n",
      "\n"
     ]
    }
   ],
   "source": [
    "import torch"
   ]
  },
  {
   "cell_type": "code",
   "execution_count": 4,
   "id": "92410a2d-d8cf-4d4b-9af4-9341043d434e",
   "metadata": {},
   "outputs": [
    {
     "data": {
      "text/plain": [
       "tensor([[1, 2],\n",
       "        [3, 4]])"
      ]
     },
     "execution_count": 4,
     "metadata": {},
     "output_type": "execute_result"
    }
   ],
   "source": [
    "data=[[1,2],[3,4]]\n",
    "x_data=torch.tensor(data)\n",
    "x_data"
   ]
  },
  {
   "cell_type": "code",
   "execution_count": null,
   "id": "1061a81a-18d0-4d7e-a6e1-9cc274823ec9",
   "metadata": {},
   "outputs": [],
   "source": [
    "import torch\n",
    "import numpy as np"
   ]
  },
  {
   "cell_type": "code",
   "execution_count": 7,
   "id": "c3839e8b-607b-4bd2-a363-5ad576a95ded",
   "metadata": {},
   "outputs": [
    {
     "ename": "NameError",
     "evalue": "name 'np' is not defined",
     "output_type": "error",
     "traceback": [
      "\u001b[1;31m---------------------------------------------------------------------------\u001b[0m",
      "\u001b[1;31mNameError\u001b[0m                                 Traceback (most recent call last)",
      "\u001b[1;32m~\\AppData\\Local\\Temp/ipykernel_12348/2294926658.py\u001b[0m in \u001b[0;36m<module>\u001b[1;34m\u001b[0m\n\u001b[0;32m      1\u001b[0m \u001b[0mdata\u001b[0m\u001b[1;33m=\u001b[0m\u001b[1;33m[\u001b[0m\u001b[1;33m[\u001b[0m\u001b[1;36m1\u001b[0m\u001b[1;33m,\u001b[0m\u001b[1;36m2\u001b[0m\u001b[1;33m]\u001b[0m\u001b[1;33m,\u001b[0m\u001b[1;33m[\u001b[0m\u001b[1;36m3\u001b[0m\u001b[1;33m,\u001b[0m\u001b[1;36m4\u001b[0m\u001b[1;33m]\u001b[0m\u001b[1;33m]\u001b[0m\u001b[1;33m\u001b[0m\u001b[1;33m\u001b[0m\u001b[0m\n\u001b[1;32m----> 2\u001b[1;33m \u001b[0mnp_array\u001b[0m\u001b[1;33m=\u001b[0m\u001b[0mnp\u001b[0m\u001b[1;33m.\u001b[0m\u001b[0marray\u001b[0m\u001b[1;33m(\u001b[0m\u001b[0mdata\u001b[0m\u001b[1;33m)\u001b[0m\u001b[1;33m\u001b[0m\u001b[1;33m\u001b[0m\u001b[0m\n\u001b[0m\u001b[0;32m      3\u001b[0m \u001b[0mx_np\u001b[0m\u001b[1;33m=\u001b[0m\u001b[0mtorch\u001b[0m\u001b[1;33m.\u001b[0m\u001b[0mfrom_numpy\u001b[0m\u001b[1;33m(\u001b[0m\u001b[0mnp_array\u001b[0m\u001b[1;33m)\u001b[0m\u001b[1;33m\u001b[0m\u001b[1;33m\u001b[0m\u001b[0m\n\u001b[0;32m      4\u001b[0m \u001b[0mx_np\u001b[0m\u001b[1;33m\u001b[0m\u001b[1;33m\u001b[0m\u001b[0m\n",
      "\u001b[1;31mNameError\u001b[0m: name 'np' is not defined"
     ]
    }
   ],
   "source": [
    "data=[[1,2],[3,4]]\n",
    "np_array=np.array(data)\n",
    "x_np=torch.from_numpy(np_array)\n",
    "x_np"
   ]
  },
  {
   "cell_type": "code",
   "execution_count": null,
   "id": "20ecf601-48f3-4ada-a0b8-3a0933b66973",
   "metadata": {},
   "outputs": [],
   "source": [
    "#由其他张量间接创建"
   ]
  },
  {
   "cell_type": "code",
   "execution_count": 6,
   "id": "62914f30-252a-445c-b0c2-6c1b317d3f87",
   "metadata": {},
   "outputs": [
    {
     "name": "stdout",
     "output_type": "stream",
     "text": [
      "Ones tensor: \n",
      " tensor([[1, 1],\n",
      "        [1, 1]]) \n",
      "\n",
      "Random Tensor: \n",
      " tensor([[0.7687, 0.0115],\n",
      "        [0.6940, 0.1165]]) \n",
      "\n"
     ]
    }
   ],
   "source": [
    "data=[[1,2],[3,4]]\n",
    "x_data=torch.tensor(data)\n",
    "x_data\n",
    "\n",
    "x_ones=torch.ones_like(x_data)\n",
    "print(f\"Ones tensor: \\n {x_ones} \\n\")\n",
    "x_rand=torch.rand_like(x_data,dtype=torch.float)\n",
    "print(f\"Random Tensor: \\n {x_rand} \\n\")"
   ]
  },
  {
   "cell_type": "code",
   "execution_count": null,
   "id": "23edd08b-76af-41f5-bb43-8efa5879c39a",
   "metadata": {},
   "outputs": [],
   "source": [
    "#创建常数张量"
   ]
  },
  {
   "cell_type": "code",
   "execution_count": null,
   "id": "6c501236-c905-4fe3-a412-c9459a57ec18",
   "metadata": {},
   "outputs": [],
   "source": []
  },
  {
   "cell_type": "code",
   "execution_count": null,
   "id": "912cdffd-24d0-420b-b3b1-a946065b5425",
   "metadata": {},
   "outputs": [],
   "source": []
  },
  {
   "cell_type": "code",
   "execution_count": null,
   "id": "7506c38e-5f1c-4b9b-a3a3-c231d2a56df2",
   "metadata": {},
   "outputs": [],
   "source": []
  },
  {
   "cell_type": "code",
   "execution_count": null,
   "id": "8c56d220-45ac-4fa6-a473-09a309796195",
   "metadata": {},
   "outputs": [],
   "source": []
  },
  {
   "cell_type": "code",
   "execution_count": null,
   "id": "4379d3c1-196f-443f-b0fb-d4b888c36420",
   "metadata": {},
   "outputs": [],
   "source": []
  },
  {
   "cell_type": "code",
   "execution_count": null,
   "id": "e016a62f-9a01-4f74-a32a-6e771b3440fc",
   "metadata": {},
   "outputs": [],
   "source": []
  }
 ],
 "metadata": {
  "kernelspec": {
   "display_name": "Python 3 (ipykernel)",
   "language": "python",
   "name": "python3"
  },
  "language_info": {
   "codemirror_mode": {
    "name": "ipython",
    "version": 3
   },
   "file_extension": ".py",
   "mimetype": "text/x-python",
   "name": "python",
   "nbconvert_exporter": "python",
   "pygments_lexer": "ipython3",
   "version": "3.9.7"
  }
 },
 "nbformat": 4,
 "nbformat_minor": 5
}
