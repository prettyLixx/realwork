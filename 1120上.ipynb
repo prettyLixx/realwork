{
 "cells": [
  {
   "cell_type": "code",
   "execution_count": 3,
   "id": "bd0b7b84-824d-479a-b5bb-808a9e6c5560",
   "metadata": {},
   "outputs": [
    {
     "name": "stdout",
     "output_type": "stream",
     "text": [
      "Gradient of y with respect to x1: 0.0\n",
      "Gradient of y with respect to x2: 0.002896492835134268\n"
     ]
    }
   ],
   "source": [
    "import torch\n",
    "\n",
    "# 定义sigmoid函数\n",
    "def sigmoid(x):\n",
    "    return 1 / (1 + torch.exp(-x))\n",
    "\n",
    "# 创建变量x1和x2，并设置requires_grad=True\n",
    "x1 = torch.tensor(0.0, requires_grad=True)\n",
    "x2 = torch.tensor(1.0, requires_grad=True)\n",
    "\n",
    "# 构建计算图\n",
    "y = sigmoid(3 * sigmoid(x1**2 + 2*x2 + 1) + sigmoid(x1**2 + 2*x2 + 1) + 1)\n",
    "\n",
    "# 计算梯度\n",
    "y.backward()\n",
    "\n",
    "# 打印梯度\n",
    "print(f\"Gradient of y with respect to x1: {x1.grad}\")\n",
    "print(f\"Gradient of y with respect to x2: {x2.grad}\")"
   ]
  },
  {
   "cell_type": "code",
   "execution_count": null,
   "id": "d031a94d-4295-457c-b058-4a2cfaa580e2",
   "metadata": {},
   "outputs": [],
   "source": []
  },
  {
   "cell_type": "code",
   "execution_count": null,
   "id": "b43216e8-1611-4c42-8500-71a393cf8dd2",
   "metadata": {},
   "outputs": [],
   "source": []
  },
  {
   "cell_type": "code",
   "execution_count": null,
   "id": "b37e20b9-f7c9-4ac2-976a-b88677f3e788",
   "metadata": {},
   "outputs": [],
   "source": []
  },
  {
   "cell_type": "code",
   "execution_count": null,
   "id": "9456b0c4-ca4c-4edc-a868-cb2015ddb50c",
   "metadata": {},
   "outputs": [],
   "source": []
  },
  {
   "cell_type": "code",
   "execution_count": null,
   "id": "221a672c-9640-4e26-9b0b-0e6215d6e49a",
   "metadata": {},
   "outputs": [],
   "source": []
  },
  {
   "cell_type": "code",
   "execution_count": null,
   "id": "a8aea3aa-0dd6-4ddb-ac74-d3fcf5710741",
   "metadata": {},
   "outputs": [],
   "source": []
  },
  {
   "cell_type": "code",
   "execution_count": null,
   "id": "47358e9a-8eaf-4892-be64-937355e21101",
   "metadata": {},
   "outputs": [],
   "source": []
  },
  {
   "cell_type": "code",
   "execution_count": null,
   "id": "503fea43-e3c2-4dbf-84a9-492f953055de",
   "metadata": {},
   "outputs": [],
   "source": []
  },
  {
   "cell_type": "code",
   "execution_count": null,
   "id": "42091892-7286-4b72-915c-043d146e939a",
   "metadata": {},
   "outputs": [],
   "source": []
  },
  {
   "cell_type": "code",
   "execution_count": null,
   "id": "9466d696-5007-4c6f-a8c1-f6a809890ac1",
   "metadata": {},
   "outputs": [],
   "source": []
  },
  {
   "cell_type": "code",
   "execution_count": null,
   "id": "3e2acba8-80ff-4c23-9de2-2d616e45e61b",
   "metadata": {},
   "outputs": [],
   "source": []
  },
  {
   "cell_type": "code",
   "execution_count": null,
   "id": "256582ca-49bf-497a-96cd-2b6b2695698e",
   "metadata": {},
   "outputs": [],
   "source": []
  },
  {
   "cell_type": "code",
   "execution_count": null,
   "id": "b57d1aeb-e302-4bae-ab20-9044e23c1988",
   "metadata": {},
   "outputs": [],
   "source": []
  },
  {
   "cell_type": "code",
   "execution_count": null,
   "id": "15d7b572-7426-4f86-9bf1-3185a742f497",
   "metadata": {},
   "outputs": [],
   "source": []
  }
 ],
 "metadata": {
  "kernelspec": {
   "display_name": "Python 3 (ipykernel)",
   "language": "python",
   "name": "python3"
  },
  "language_info": {
   "codemirror_mode": {
    "name": "ipython",
    "version": 3
   },
   "file_extension": ".py",
   "mimetype": "text/x-python",
   "name": "python",
   "nbconvert_exporter": "python",
   "pygments_lexer": "ipython3",
   "version": "3.9.7"
  }
 },
 "nbformat": 4,
 "nbformat_minor": 5
}
